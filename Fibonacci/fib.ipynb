{
 "cells": [
  {
   "cell_type": "markdown",
   "metadata": {},
   "source": [
    "Question 2 By Borna Maherani ID = 401243079"
   ]
  },
  {
   "cell_type": "markdown",
   "metadata": {},
   "source": [
    "تابع اول محاسبه توان ان ام ماتریس در اردر ان می باشد. برای آنکه محاسبات ما با اعداد بزرگ نیز درست باشد تایپ ماتریس را فلوت قرار می دهیمن تا اورفلو احتمالی رخ ندهد.تعداد ضرب های ماتریسی در این الگوریتم از حد مجاز خواسته شده در سوال بالاتر نمی شود.\n",
    "تابع دوم پیاده سازی توان ان ام از روی مقادیر ویژه و بردار های ویژه ماتریس می باشد. برای محاسبه توان ان ام یک ماتریس میتوان اول ماتریس را به فرم قطری آن در آورد و سپس با استفاده از ماتریس را به توان اعداد بزرگ رساند. درین الگوریتم از ضرب ماتریسی کمتری استفاده می شود. ماتریس دی فرم قطری ماتری آ می باشد.\n",
    "در نهایت با به دست آوردن توان ان ام میتوان جمله ان ام دنباله فیبوناچی را به دست آورد"
   ]
  },
  {
   "cell_type": "code",
   "execution_count": 12,
   "metadata": {},
   "outputs": [
    {
     "name": "stdout",
     "output_type": "stream",
     "text": [
      "[[21. 13.]\n",
      " [13.  8.]]\n",
      "[[21. 13.]\n",
      " [13.  8.]]\n",
      "[[5.62666043e+257 3.47746739e+257]\n",
      " [3.47746739e+257 2.14919304e+257]]\n",
      "[[5.62666043e+257 3.47746739e+257]\n",
      " [3.47746739e+257 2.14919304e+257]]\n"
     ]
    }
   ],
   "source": [
    "import numpy as np\n",
    "import math\n",
    "\n",
    "A = np.array([\n",
    "    [1, 1],\n",
    "    [1, 0]\n",
    "], dtype=np.float64)\n",
    "\n",
    "\n",
    "def fib_from_A(A, n):\n",
    "    if n == 1:\n",
    "        return A\n",
    "    else:\n",
    "        P = fib_from_A(A,math.floor(n/2))\n",
    "        if n % 2 == 0:\n",
    "            return np.matmul(P,P)\n",
    "        else:\n",
    "            return np.matmul(np.matmul(P,P),A)\n",
    "    \n",
    "    \n",
    "def fib_from_eig(A,n):\n",
    "    w, v = np.linalg.eig(A)\n",
    "    temp1 = 1/v[1][0]\n",
    "    temp2 = 1/v[1][1]\n",
    "    v = np.transpose(v)\n",
    "    v[:][0] *= temp1\n",
    "    v[:][1] *= temp2\n",
    "    v = np.transpose(v)\n",
    "    vInv = np.linalg.inv(v)\n",
    "    D = np.matmul(np.matmul(vInv,A),v)\n",
    "    Z = np.copy(D)\n",
    "    Z[1][0] = 0\n",
    "    Z[0][1] = 0\n",
    "    Z[0][0] = Z[0][0] ** n\n",
    "    Z[1][1] = Z[1][1] ** n\n",
    "    return (np.matmul(np.matmul(v,Z),vInv))\n",
    "\n",
    "print(fib_from_eig(A,7))\n",
    "print(fib_from_A(A,7))\n",
    "\n",
    "print(fib_from_eig(A,1234))\n",
    "print(fib_from_A(A,1234))\n"
   ]
  },
  {
   "cell_type": "markdown",
   "metadata": {},
   "source": [
    "در این بخش هر دو تابع را ۱۰۰۰ بار صدا مرده و مدت زمان اجرایی هر بخش را نشان می دهیم. برای توان رساندن نیاز به ان بار ضرب کردن می باشد ولی در الگوریتم اول این کار در زمان لوگ ان انجام مییشود که خیلی سریعتر می باشد.\n",
    "نتایج به دست آمده مطابق انتظارات می باشد."
   ]
  },
  {
   "cell_type": "code",
   "execution_count": 11,
   "metadata": {},
   "outputs": [
    {
     "name": "stdout",
     "output_type": "stream",
     "text": [
      "Time for 10000 execution :  0.63 s\n",
      "Time for 10000 execution :  0.32 s\n"
     ]
    }
   ],
   "source": [
    "\n",
    "times = 10000\n",
    "\n",
    "etime = np.testing.measure('fib_from_eig(A,1234)', times=times)\n",
    "\n",
    "print(\"Time for 10000 execution : \", etime , \"s\")\n",
    "\n",
    "times = 10000\n",
    "\n",
    "etime = np.testing.measure('fib_from_A(A,1234)', times=times)\n",
    "\n",
    "print(\"Time for 10000 execution : \", etime , \"s\")  "
   ]
  }
 ],
 "metadata": {
  "kernelspec": {
   "display_name": "Python 3",
   "language": "python",
   "name": "python3"
  },
  "language_info": {
   "codemirror_mode": {
    "name": "ipython",
    "version": 3
   },
   "file_extension": ".py",
   "mimetype": "text/x-python",
   "name": "python",
   "nbconvert_exporter": "python",
   "pygments_lexer": "ipython3",
   "version": "3.10.12"
  }
 },
 "nbformat": 4,
 "nbformat_minor": 2
}

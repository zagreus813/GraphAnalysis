{
 "cells": [
  {
   "cell_type": "markdown",
   "metadata": {},
   "source": [
    "Question 1 By Borna Maherani ID = 401243079"
   ]
  },
  {
   "cell_type": "markdown",
   "metadata": {},
   "source": [
    "برای بررسی رفیق باز ترین اول باید بردار ویژه غالب را محاسبه کرد. در اینجا از تخمین بردار ویژه به روش توانی استفاده کردم. که مفهوم هر درایه آن متاسب با رفیق باز بودن آن شخص می باشد.اول یک بردار همینجوری برای تخمین در نظر می گیریم در اینجا بردار همه ۱ در نظر گرفته شده. و بعد ماتریس مورد نظر را در آن به پیمایش های زیادی در آن ضرب می کنیم تا بردار ویژه غالب به دست بیاید. در هر مرحله بردار را نرمالایز می کنیم برای ساده تر شدن محاسبات. در نهایت ۳ المان بزرگتر بردار ویژه را به همراه ایندکس آن به عناون رفیق باز ترین افراد خروجی می دهیم."
   ]
  },
  {
   "cell_type": "code",
   "execution_count": 46,
   "metadata": {},
   "outputs": [
    {
     "name": "stdout",
     "output_type": "stream",
     "text": [
      "[0.41698093 0.46543985 0.50349214 0.30370959 0.36713423 0.35911176]\n",
      "[(0, 0.4169809313047961), (1, 0.4654398462182147), (2, 0.5034921441797489)]\n"
     ]
    }
   ],
   "source": [
    "import numpy as np\n",
    "A = np.array([\n",
    "    [0.0, 0.8, 0.6, 0.1, 0.0, 0.0],\n",
    "    [0.8, 0.0, 0.9, 0.0, 0.0, 0.0],\n",
    "    [0.6, 0.9, 0.0, 0.0, 0.3, 0.2],\n",
    "    [0.1, 0.0, 0.0, 0.0, 0.6, 0.7],\n",
    "    [0.0, 0.0, 0.3, 0.6, 0.0, 0.8],\n",
    "    [0.0, 0.0, 0.2, 0.7, 0.8, 0.0]\n",
    "])\n",
    "\n",
    "def powerItr(A, telo = 0.001 , max_itr = 1000):\n",
    "    X0 = np.ones(A.shape[1])\n",
    "    for i in range(max_itr):\n",
    "        res = np.dot(A, X0)\n",
    "        res /= np.linalg.norm(res)\n",
    "        X0 = res\n",
    "    return X0\n",
    "main_eigenvec = powerItr(A)\n",
    "print(main_eigenvec)\n",
    "tuple_eigenvec = [(ind,num)for ind, num in enumerate(main_eigenvec)]\n",
    "sorted_num = sorted(tuple_eigenvec, key=lambda x: x[1])\n",
    "\n",
    "print( sorted_num[np.size(A[0])-3:np.size(A[0])])"
   ]
  },
  {
   "cell_type": "markdown",
   "metadata": {},
   "source": [
    "برای بخش دوم تحقیق در مورد ماتریس لاپلاسین: در مورد این ماتری می توان گفت که از حاصل تفریق ماتریس ارتباطات و ماتریس درجه گراف مورد نظرر به دست می آید که در آن جمع همه عناصر هر سطر صفر می باشد. در مورد خواص آن می توان گفت که اگر مقدار ویژه مغلوب دوم بزرگتر از صفر باشد. گراف ما کامل همبند می باشد ینی میتوان هر ارتباطی ره به شکل دوست دوست دوست ..... نوشت."
   ]
  },
  {
   "cell_type": "code",
   "execution_count": 50,
   "metadata": {},
   "outputs": [
    {
     "name": "stdout",
     "output_type": "stream",
     "text": [
      "[0.40824829 0.40824829 0.40824829 0.40824829 0.40824829 0.40824829]\n",
      "6.798699777552592e-17\n",
      "0.010000000000000068\n",
      "Connected\n"
     ]
    }
   ],
   "source": [
    "# dgrA = np.diag(A.sum(axis=1))\n",
    "# lplA = dgrA - A\n",
    "# w, v = np.linalg.eig(lplA)\n",
    "# x = np.ones(A.shape[1])\n",
    "# I = np.eye(A.shape[1])\n",
    "# B = lplA - 0.01 * I\n",
    "# lInv = np.linalg.inv(B)\n",
    "# P = powerItr(lInv)\n",
    "# print(P)\n",
    "# m = np.dot(np.dot(lplA, P),P)\n",
    "# print(m/np.dot(P,P))\n",
    "\n",
    "\n",
    "def invPwrItr(Lpl, itr=50):\n",
    "    X0 = np.ones(Lpl.shape[1])\n",
    "    I = np.eye(Lpl.shape[1])\n",
    "    P = Lpl - 0.01 * I\n",
    "    for i in range(itr):\n",
    "        x_new = np.linalg.solve(B, X0)\n",
    "        x_new /= np.linalg.norm(x_new)\n",
    "        X0 = x_new\n",
    "    eigenvalue = np.dot(X0.T, np.dot(Lpl, X0)) / np.dot(X0.T, X0)\n",
    "    return eigenvalue + 0.01\n",
    "eigenvalue = invPwrItr(lplA)\n",
    "print(eigenvalue)\n",
    "if (eigenvalue >= 0):\n",
    "    print(\"Connected\")"
   ]
  }
 ],
 "metadata": {
  "kernelspec": {
   "display_name": "Python 3",
   "language": "python",
   "name": "python3"
  },
  "language_info": {
   "codemirror_mode": {
    "name": "ipython",
    "version": 3
   },
   "file_extension": ".py",
   "mimetype": "text/x-python",
   "name": "python",
   "nbconvert_exporter": "python",
   "pygments_lexer": "ipython3",
   "version": "3.10.12"
  }
 },
 "nbformat": 4,
 "nbformat_minor": 2
}
